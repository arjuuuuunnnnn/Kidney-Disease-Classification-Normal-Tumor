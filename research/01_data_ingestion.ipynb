{
 "cells": [
  {
   "cell_type": "code",
   "execution_count": 1,
   "metadata": {},
   "outputs": [],
   "source": [
    "import os"
   ]
  },
  {
   "cell_type": "code",
   "execution_count": 2,
   "metadata": {},
   "outputs": [
    {
     "data": {
      "text/plain": [
       "'/home/hemanth/only_ml/Kidney-Disease-Classification-Deep-Learning-Project/research'"
      ]
     },
     "execution_count": 2,
     "metadata": {},
     "output_type": "execute_result"
    }
   ],
   "source": [
    "%pwd"
   ]
  },
  {
   "cell_type": "code",
   "execution_count": 3,
   "metadata": {},
   "outputs": [],
   "source": [
    "os.chdir(\"../\")"
   ]
  },
  {
   "cell_type": "code",
   "execution_count": 4,
   "metadata": {},
   "outputs": [
    {
     "data": {
      "text/plain": [
       "'/home/hemanth/only_ml/Kidney-Disease-Classification-Deep-Learning-Project'"
      ]
     },
     "execution_count": 4,
     "metadata": {},
     "output_type": "execute_result"
    }
   ],
   "source": [
    "%pwd"
   ]
  },
  {
   "cell_type": "code",
   "execution_count": 5,
   "metadata": {},
   "outputs": [],
   "source": [
    "from dataclasses import dataclass\n",
    "from pathlib import Path\n",
    "\n",
    "# whatever i've written in the config.yaml file i'am copying here\n",
    "@dataclass(frozen=True)\n",
    "class DataIngestionConfig:\n",
    "    root_dir: Path\n",
    "    source_URL: str\n",
    "    local_data_file: Path\n",
    "    unzip_dir: Path"
   ]
  },
  {
   "cell_type": "code",
   "execution_count": 19,
   "metadata": {},
   "outputs": [
    {
     "name": "stdout",
     "output_type": "stream",
     "text": [
      "Requirement already satisfied: boxsdk in /home/hemanth/only_ml/.venv/lib/python3.11/site-packages (3.9.2)\n",
      "Requirement already satisfied: attrs>=17.3.0 in /home/hemanth/only_ml/.venv/lib/python3.11/site-packages (from boxsdk) (23.2.0)\n",
      "Requirement already satisfied: urllib3 in /home/hemanth/only_ml/.venv/lib/python3.11/site-packages (from boxsdk) (2.1.0)\n",
      "Requirement already satisfied: requests<3,>=2.4.3 in /home/hemanth/only_ml/.venv/lib/python3.11/site-packages (from boxsdk) (2.31.0)\n",
      "Requirement already satisfied: requests-toolbelt>=0.4.0 in /home/hemanth/only_ml/.venv/lib/python3.11/site-packages (from boxsdk) (1.0.0)\n",
      "Requirement already satisfied: python-dateutil in /home/hemanth/only_ml/.venv/lib/python3.11/site-packages (from boxsdk) (2.8.2)\n",
      "Requirement already satisfied: charset-normalizer<4,>=2 in /home/hemanth/only_ml/.venv/lib/python3.11/site-packages (from requests<3,>=2.4.3->boxsdk) (3.3.2)\n",
      "Requirement already satisfied: idna<4,>=2.5 in /home/hemanth/only_ml/.venv/lib/python3.11/site-packages (from requests<3,>=2.4.3->boxsdk) (3.6)\n",
      "Requirement already satisfied: certifi>=2017.4.17 in /home/hemanth/only_ml/.venv/lib/python3.11/site-packages (from requests<3,>=2.4.3->boxsdk) (2023.11.17)\n",
      "Requirement already satisfied: six>=1.5 in /home/hemanth/only_ml/.venv/lib/python3.11/site-packages (from python-dateutil->boxsdk) (1.16.0)\n",
      "Note: you may need to restart the kernel to use updated packages.\n",
      "Collecting pyyaml\n",
      "  Downloading PyYAML-6.0.1-cp311-cp311-manylinux_2_17_x86_64.manylinux2014_x86_64.whl.metadata (2.1 kB)\n",
      "Collecting types-PyYAML\n",
      "  Downloading types_PyYAML-6.0.12.12-py3-none-any.whl.metadata (1.4 kB)\n",
      "Downloading PyYAML-6.0.1-cp311-cp311-manylinux_2_17_x86_64.manylinux2014_x86_64.whl (757 kB)\n",
      "\u001b[2K   \u001b[38;2;114;156;31m━━━━━━━━━━━━━━━━━━━━━━━━━━━━━━━━━━━━━━━\u001b[0m \u001b[32m757.7/757.7 kB\u001b[0m \u001b[31m824.4 kB/s\u001b[0m eta \u001b[36m0:00:00\u001b[0m36m0:00:01\u001b[0mm eta \u001b[36m0:00:01\u001b[0m\n",
      "\u001b[?25hDownloading types_PyYAML-6.0.12.12-py3-none-any.whl (14 kB)\n",
      "Installing collected packages: types-PyYAML, pyyaml\n",
      "Successfully installed pyyaml-6.0.1 types-PyYAML-6.0.12.12\n",
      "Note: you may need to restart the kernel to use updated packages.\n"
     ]
    }
   ],
   "source": [
    "%pip install boxsdk\n",
    "%pip install pyyaml types-PyYAML"
   ]
  },
  {
   "cell_type": "code",
   "execution_count": 22,
   "metadata": {},
   "outputs": [
    {
     "name": "stdout",
     "output_type": "stream",
     "text": [
      "Collecting ensure\n",
      "  Using cached ensure-1.0.4-py3-none-any.whl.metadata (10 kB)\n",
      "Requirement already satisfied: six>=1.11.0 in /home/hemanth/only_ml/.venv/lib/python3.11/site-packages (from ensure) (1.16.0)\n",
      "Using cached ensure-1.0.4-py3-none-any.whl (15 kB)\n",
      "Installing collected packages: ensure\n",
      "Successfully installed ensure-1.0.4\n",
      "Note: you may need to restart the kernel to use updated packages.\n"
     ]
    }
   ],
   "source": [
    "%pip install ensure"
   ]
  },
  {
   "cell_type": "code",
   "execution_count": 24,
   "metadata": {},
   "outputs": [
    {
     "name": "stdout",
     "output_type": "stream",
     "text": [
      "Requirement already satisfied: boxsdk in /home/hemanth/only_ml/.venv/lib/python3.11/site-packages (3.9.2)\n",
      "Requirement already satisfied: attrs>=17.3.0 in /home/hemanth/only_ml/.venv/lib/python3.11/site-packages (from boxsdk) (23.2.0)\n",
      "Requirement already satisfied: urllib3 in /home/hemanth/only_ml/.venv/lib/python3.11/site-packages (from boxsdk) (2.1.0)\n",
      "Requirement already satisfied: requests<3,>=2.4.3 in /home/hemanth/only_ml/.venv/lib/python3.11/site-packages (from boxsdk) (2.31.0)\n",
      "Requirement already satisfied: requests-toolbelt>=0.4.0 in /home/hemanth/only_ml/.venv/lib/python3.11/site-packages (from boxsdk) (1.0.0)\n",
      "Requirement already satisfied: python-dateutil in /home/hemanth/only_ml/.venv/lib/python3.11/site-packages (from boxsdk) (2.8.2)\n",
      "Requirement already satisfied: charset-normalizer<4,>=2 in /home/hemanth/only_ml/.venv/lib/python3.11/site-packages (from requests<3,>=2.4.3->boxsdk) (3.3.2)\n",
      "Requirement already satisfied: idna<4,>=2.5 in /home/hemanth/only_ml/.venv/lib/python3.11/site-packages (from requests<3,>=2.4.3->boxsdk) (3.6)\n",
      "Requirement already satisfied: certifi>=2017.4.17 in /home/hemanth/only_ml/.venv/lib/python3.11/site-packages (from requests<3,>=2.4.3->boxsdk) (2023.11.17)\n",
      "Requirement already satisfied: six>=1.5 in /home/hemanth/only_ml/.venv/lib/python3.11/site-packages (from python-dateutil->boxsdk) (1.16.0)\n",
      "Note: you may need to restart the kernel to use updated packages.\n"
     ]
    }
   ],
   "source": [
    "%pip install boxsdk"
   ]
  },
  {
   "cell_type": "code",
   "execution_count": 27,
   "metadata": {},
   "outputs": [
    {
     "name": "stdout",
     "output_type": "stream",
     "text": [
      "Collecting python-box\n",
      "  Using cached python_box-7.1.1-cp311-cp311-manylinux_2_17_x86_64.manylinux2014_x86_64.whl.metadata (7.8 kB)\n",
      "Using cached python_box-7.1.1-cp311-cp311-manylinux_2_17_x86_64.manylinux2014_x86_64.whl (4.3 MB)\n",
      "Installing collected packages: python-box\n",
      "Successfully installed python-box-7.1.1\n",
      "Note: you may need to restart the kernel to use updated packages.\n"
     ]
    }
   ],
   "source": [
    "%pip install python-box"
   ]
  },
  {
   "cell_type": "code",
   "execution_count": 29,
   "metadata": {},
   "outputs": [],
   "source": [
    "from src.cnnClassifier.constants import *\n",
    "from src.cnnClassifier.utils.common import read_yaml, create_directories"
   ]
  },
  {
   "cell_type": "code",
   "execution_count": 30,
   "metadata": {},
   "outputs": [],
   "source": [
    "class ConfigurationManager:\n",
    "    def __init__(\n",
    "        self,\n",
    "        config_filepath = CONFIG_FILE_PATH,\n",
    "        params_filepath = PARAMS_FILE_PATH):\n",
    "\n",
    "        self.config = read_yaml(config_filepath)\n",
    "        self.params = read_yaml(params_filepath)\n",
    "\n",
    "        create_directories([self.config.artifacts_root])\n",
    "\n",
    "\n",
    "    \n",
    "    def get_data_ingestion_config(self) -> DataIngestionConfig:\n",
    "        config = self.config.data_ingestion\n",
    "\n",
    "        create_directories([config.root_dir])\n",
    "\n",
    "        data_ingestion_config = DataIngestionConfig(\n",
    "            root_dir=config.root_dir,\n",
    "            source_URL=config.source_URL,\n",
    "            local_data_file=config.local_data_file,\n",
    "            unzip_dir=config.unzip_dir \n",
    "        )\n",
    "\n",
    "        return data_ingestion_config"
   ]
  },
  {
   "cell_type": "code",
   "execution_count": 32,
   "metadata": {},
   "outputs": [
    {
     "name": "stdout",
     "output_type": "stream",
     "text": [
      "Collecting gdown\n",
      "  Using cached gdown-5.1.0-py3-none-any.whl.metadata (5.7 kB)\n",
      "Collecting beautifulsoup4 (from gdown)\n",
      "  Downloading beautifulsoup4-4.12.3-py3-none-any.whl.metadata (3.8 kB)\n",
      "Collecting filelock (from gdown)\n",
      "  Downloading filelock-3.13.1-py3-none-any.whl.metadata (2.8 kB)\n",
      "Requirement already satisfied: requests[socks] in /home/hemanth/only_ml/.venv/lib/python3.11/site-packages (from gdown) (2.31.0)\n",
      "Requirement already satisfied: tqdm in /home/hemanth/only_ml/.venv/lib/python3.11/site-packages (from gdown) (4.66.1)\n",
      "Collecting soupsieve>1.2 (from beautifulsoup4->gdown)\n",
      "  Downloading soupsieve-2.5-py3-none-any.whl.metadata (4.7 kB)\n",
      "Requirement already satisfied: charset-normalizer<4,>=2 in /home/hemanth/only_ml/.venv/lib/python3.11/site-packages (from requests[socks]->gdown) (3.3.2)\n",
      "Requirement already satisfied: idna<4,>=2.5 in /home/hemanth/only_ml/.venv/lib/python3.11/site-packages (from requests[socks]->gdown) (3.6)\n",
      "Requirement already satisfied: urllib3<3,>=1.21.1 in /home/hemanth/only_ml/.venv/lib/python3.11/site-packages (from requests[socks]->gdown) (2.1.0)\n",
      "Requirement already satisfied: certifi>=2017.4.17 in /home/hemanth/only_ml/.venv/lib/python3.11/site-packages (from requests[socks]->gdown) (2023.11.17)\n",
      "Collecting PySocks!=1.5.7,>=1.5.6 (from requests[socks]->gdown)\n",
      "  Downloading PySocks-1.7.1-py3-none-any.whl.metadata (13 kB)\n",
      "Using cached gdown-5.1.0-py3-none-any.whl (17 kB)\n",
      "Downloading beautifulsoup4-4.12.3-py3-none-any.whl (147 kB)\n",
      "\u001b[2K   \u001b[38;2;114;156;31m━━━━━━━━━━━━━━━━━━━━━━━━━━━━━━━━━━━━━━━\u001b[0m \u001b[32m147.9/147.9 kB\u001b[0m \u001b[31m681.8 kB/s\u001b[0m eta \u001b[36m0:00:00\u001b[0m31m2.0 MB/s\u001b[0m eta \u001b[36m0:00:01\u001b[0m\n",
      "\u001b[?25hDownloading filelock-3.13.1-py3-none-any.whl (11 kB)\n",
      "Downloading PySocks-1.7.1-py3-none-any.whl (16 kB)\n",
      "Downloading soupsieve-2.5-py3-none-any.whl (36 kB)\n",
      "Installing collected packages: soupsieve, PySocks, filelock, beautifulsoup4, gdown\n",
      "Successfully installed PySocks-1.7.1 beautifulsoup4-4.12.3 filelock-3.13.1 gdown-5.1.0 soupsieve-2.5\n",
      "Note: you may need to restart the kernel to use updated packages.\n"
     ]
    }
   ],
   "source": [
    "%pip install gdown"
   ]
  },
  {
   "cell_type": "code",
   "execution_count": 33,
   "metadata": {},
   "outputs": [],
   "source": [
    "import os\n",
    "import zipfile\n",
    "import gdown\n",
    "from src.cnnClassifier import logger\n",
    "from src.cnnClassifier.utils.common import get_size"
   ]
  },
  {
   "cell_type": "code",
   "execution_count": 34,
   "metadata": {},
   "outputs": [],
   "source": [
    "class DataIngestion:\n",
    "    def __init__(self, config: DataIngestionConfig):\n",
    "        self.config = config\n",
    "\n",
    "    \n",
    "    def download_file(self)-> str:\n",
    "        '''\n",
    "        Fetch data from the url\n",
    "        '''\n",
    "\n",
    "        try: \n",
    "            dataset_url = self.config.source_URL\n",
    "            zip_download_dir = self.config.local_data_file\n",
    "            os.makedirs(\"artifacts/data_ingestion\", exist_ok=True)\n",
    "            logger.info(f\"Downloading data from {dataset_url} into file {zip_download_dir}\")\n",
    "\n",
    "            file_id = dataset_url.split(\"/\")[-2]\n",
    "            prefix = 'https://drive.google.com/uc?/export=download&id='\n",
    "            gdown.download(prefix+file_id,zip_download_dir)\n",
    "\n",
    "            logger.info(f\"Downloaded data from {dataset_url} into file {zip_download_dir}\")\n",
    "\n",
    "        except Exception as e:\n",
    "            raise e\n",
    "        \n",
    "    \n",
    "\n",
    "    def extract_zip_file(self):\n",
    "        \"\"\"\n",
    "        zip_file_path: str\n",
    "        Extracts the zip file into the data directory\n",
    "        Function returns None\n",
    "        \"\"\"\n",
    "        unzip_path = self.config.unzip_dir\n",
    "        os.makedirs(unzip_path, exist_ok=True)\n",
    "        with zipfile.ZipFile(self.config.local_data_file, 'r') as zip_ref:\n",
    "            zip_ref.extractall(unzip_path)\n",
    "\n"
   ]
  },
  {
   "cell_type": "code",
   "execution_count": 35,
   "metadata": {},
   "outputs": [
    {
     "name": "stdout",
     "output_type": "stream",
     "text": [
      "[2024-03-05 09:37:38,097: INFO: common: yaml file: config/config.yaml loaded successfully]\n",
      "[2024-03-05 09:37:38,124: INFO: common: yaml file: params.yaml loaded successfully]\n",
      "[2024-03-05 09:37:38,125: INFO: common: created directory at: artifacts]\n",
      "[2024-03-05 09:37:38,126: INFO: common: created directory at: artifacts/data_ingestion]\n",
      "[2024-03-05 09:37:38,128: INFO: 3172177572: Downloading data from https://drive.google.com/file/d/1wTvlJjWavZS7kV9dlWGqYUw1-wLbZvyQ/view?usp=sharing into file artifacts/data_ingestion/data.zip]\n"
     ]
    },
    {
     "name": "stderr",
     "output_type": "stream",
     "text": [
      "Downloading...\n",
      "From (original): https://drive.google.com/uc?/export=download&id=1wTvlJjWavZS7kV9dlWGqYUw1-wLbZvyQ\n",
      "From (redirected): https://drive.google.com/uc?%2Fexport=download&id=1wTvlJjWavZS7kV9dlWGqYUw1-wLbZvyQ&confirm=t&uuid=b5e00e7b-6121-4cc9-af63-84e02b9334d3\n",
      "To: /home/hemanth/only_ml/Kidney-Disease-Classification-Deep-Learning-Project/artifacts/data_ingestion/data.zip\n",
      "100%|██████████| 57.7M/57.7M [00:21<00:00, 2.66MB/s]"
     ]
    },
    {
     "name": "stdout",
     "output_type": "stream",
     "text": [
      "[2024-03-05 09:38:02,309: INFO: 3172177572: Downloaded data from https://drive.google.com/file/d/1wTvlJjWavZS7kV9dlWGqYUw1-wLbZvyQ/view?usp=sharing into file artifacts/data_ingestion/data.zip]\n"
     ]
    },
    {
     "name": "stderr",
     "output_type": "stream",
     "text": [
      "\n"
     ]
    }
   ],
   "source": [
    "try:\n",
    "    config = ConfigurationManager()\n",
    "    data_ingestion_config = config.get_data_ingestion_config()\n",
    "    data_ingestion = DataIngestion(config=data_ingestion_config)\n",
    "    data_ingestion.download_file()\n",
    "    data_ingestion.extract_zip_file()\n",
    "except Exception as e:\n",
    "    raise e"
   ]
  },
  {
   "cell_type": "code",
   "execution_count": null,
   "metadata": {},
   "outputs": [],
   "source": []
  }
 ],
 "metadata": {
  "kernelspec": {
   "display_name": "kidney",
   "language": "python",
   "name": "python3"
  },
  "language_info": {
   "codemirror_mode": {
    "name": "ipython",
    "version": 3
   },
   "file_extension": ".py",
   "mimetype": "text/x-python",
   "name": "python",
   "nbconvert_exporter": "python",
   "pygments_lexer": "ipython3",
   "version": "3.11.8"
  },
  "orig_nbformat": 4
 },
 "nbformat": 4,
 "nbformat_minor": 2
}
